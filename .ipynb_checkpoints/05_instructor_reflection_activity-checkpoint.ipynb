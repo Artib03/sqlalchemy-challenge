{
 "cells": [
  {
   "cell_type": "code",
   "execution_count": null,
   "id": "f36919c9",
   "metadata": {},
   "outputs": [],
   "source": [
    "# Import the Python SQL toolkit and Object Relational Mapper\n",
    "import sqlalchemy\n",
    "from sqlalchemy.ext.automap import automap_base\n",
    "from sqlalchemy.orm import Session\n",
    "from sqlalchemy import create_engine"
   ]
  },
  {
   "cell_type": "code",
   "execution_count": null,
   "id": "3bb3bd97",
   "metadata": {},
   "outputs": [],
   "source": [
    "# Create engine using the `dow.sqlite` database file\n",
    "engine = create_engine(\"sqlite:///../Resources/dow.sqlite\")"
   ]
  },
  {
   "cell_type": "code",
   "execution_count": null,
   "id": "90c71d7f",
   "metadata": {},
   "outputs": [],
   "source": [
    "# Declare a Base using `automap_base()`\n",
    "Base = automap_base()"
   ]
  },
  {
   "cell_type": "code",
   "execution_count": null,
   "id": "bce3e618",
   "metadata": {},
   "outputs": [],
   "source": [
    "# Use the Base class to reflect the database tables\n",
    "Base.prepare(autoload_with=engine)"
   ]
  },
  {
   "cell_type": "code",
   "execution_count": null,
   "id": "a23cc980",
   "metadata": {},
   "outputs": [],
   "source": [
    "# Print all of the classes mapped to the Base\n",
    "Base.classes.keys()"
   ]
  },
  {
   "cell_type": "code",
   "execution_count": null,
   "id": "12bbf18f",
   "metadata": {},
   "outputs": [],
   "source": [
    "# Assign the dow class to a variable called `Dow`\n",
    "Dow = Base.classes.dow"
   ]
  },
  {
   "cell_type": "code",
   "execution_count": null,
   "id": "2349a335",
   "metadata": {},
   "outputs": [],
   "source": [
    "# Create a session\n",
    "session = Session(engine)"
   ]
  },
  {
   "cell_type": "code",
   "execution_count": null,
   "id": "8cc5d73a",
   "metadata": {},
   "outputs": [],
   "source": [
    "# Display the first row's columns and data in dictionary format\n",
    "first_row = session.query(Dow).first()\n",
    "first_row.__dict__"
   ]
  },
  {
   "cell_type": "code",
   "execution_count": null,
   "id": "dae9082b",
   "metadata": {},
   "outputs": [],
   "source": [
    "# Use the session to query Dow table and display the first 5 trade volumes\n",
    "for row in session.query(Dow.stock, Dow.volume).limit(15).all():\n",
    "    print(row)"
   ]
  }
 ],
 "metadata": {
  "kernelspec": {
   "display_name": "Python 3 (ipykernel)",
   "language": "python",
   "name": "python3"
  },
  "language_info": {
   "codemirror_mode": {
    "name": "ipython",
    "version": 3
   },
   "file_extension": ".py",
   "mimetype": "text/x-python",
   "name": "python",
   "nbconvert_exporter": "python",
   "pygments_lexer": "ipython3",
   "version": "3.11.5"
  }
 },
 "nbformat": 4,
 "nbformat_minor": 5
}
